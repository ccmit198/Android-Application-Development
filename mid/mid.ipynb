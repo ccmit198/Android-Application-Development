{
 "cells": [
  {
   "cell_type": "code",
   "execution_count": 3,
   "metadata": {},
   "outputs": [
    {
     "name": "stdout",
     "output_type": "stream",
     "text": [
      "Requirement already satisfied: opencv-python in e:\\anaconda3\\lib\\site-packages (4.5.5.64)\n",
      "Requirement already satisfied: numpy>=1.19.3 in e:\\anaconda3\\lib\\site-packages (from opencv-python) (1.20.3)\n",
      "Requirement already satisfied: matplotlib in e:\\anaconda3\\lib\\site-packages (3.4.3)\n",
      "Requirement already satisfied: python-dateutil>=2.7 in e:\\anaconda3\\lib\\site-packages (from matplotlib) (2.8.2)\n",
      "Requirement already satisfied: cycler>=0.10 in e:\\anaconda3\\lib\\site-packages (from matplotlib) (0.10.0)\n",
      "Requirement already satisfied: numpy>=1.16 in e:\\anaconda3\\lib\\site-packages (from matplotlib) (1.20.3)\n",
      "Requirement already satisfied: pillow>=6.2.0 in e:\\anaconda3\\lib\\site-packages (from matplotlib) (8.4.0)\n",
      "Requirement already satisfied: pyparsing>=2.2.1 in e:\\anaconda3\\lib\\site-packages (from matplotlib) (3.0.4)\n",
      "Requirement already satisfied: kiwisolver>=1.0.1 in e:\\anaconda3\\lib\\site-packages (from matplotlib) (1.3.1)\n",
      "Requirement already satisfied: six in e:\\anaconda3\\lib\\site-packages (from cycler>=0.10->matplotlib) (1.16.0)\n",
      "Requirement already satisfied: numpy in e:\\anaconda3\\lib\\site-packages (1.20.3)\n",
      "Requirement already satisfied: sklearn in e:\\anaconda3\\lib\\site-packages (0.0)\n",
      "Requirement already satisfied: scikit-learn in e:\\anaconda3\\lib\\site-packages (from sklearn) (0.24.2)\n",
      "Requirement already satisfied: threadpoolctl>=2.0.0 in e:\\anaconda3\\lib\\site-packages (from scikit-learn->sklearn) (2.2.0)\n",
      "Requirement already satisfied: numpy>=1.13.3 in e:\\anaconda3\\lib\\site-packages (from scikit-learn->sklearn) (1.20.3)\n",
      "Requirement already satisfied: scipy>=0.19.1 in e:\\anaconda3\\lib\\site-packages (from scikit-learn->sklearn) (1.7.1)\n",
      "Requirement already satisfied: joblib>=0.11 in e:\\anaconda3\\lib\\site-packages (from scikit-learn->sklearn) (1.1.0)\n"
     ]
    }
   ],
   "source": [
    "! pip install opencv-python\n",
    "! pip install matplotlib\n",
    "! pip install numpy\n",
    "! pip install sklearn"
   ]
  },
  {
   "cell_type": "code",
   "execution_count": 14,
   "metadata": {},
   "outputs": [
    {
     "name": "stdout",
     "output_type": "stream",
     "text": [
      "              precision    recall  f1-score   support\n",
      "\n",
      "           0       0.97      0.99      0.98      2995\n",
      "           1       0.95      0.99      0.97      3332\n",
      "           2       0.98      0.96      0.97      2933\n",
      "           3       0.95      0.96      0.96      3046\n",
      "           4       0.98      0.96      0.97      2958\n",
      "           5       0.96      0.95      0.96      2742\n",
      "           6       0.97      0.98      0.98      2936\n",
      "           7       0.96      0.97      0.96      3179\n",
      "           8       0.98      0.91      0.95      2883\n",
      "           9       0.94      0.95      0.94      2996\n",
      "\n",
      "    accuracy                           0.96     30000\n",
      "   macro avg       0.96      0.96      0.96     30000\n",
      "weighted avg       0.96      0.96      0.96     30000\n",
      "\n"
     ]
    }
   ],
   "source": [
    "import cv2\n",
    "import matplotlib.pyplot as plt\n",
    "import numpy as np\n",
    "from sklearn import metrics\n",
    "from sklearn.neighbors import KNeighborsClassifier\n",
    "from sklearn.model_selection import train_test_split\n",
    "\n",
    "number = np.uint8(np.loadtxt(\"label.txt\"))\n",
    "videocap = cv2.VideoCapture(\"test_dataset.avi\")\n",
    "state = True\n",
    "video = []\n",
    "while state:    \n",
    "    state, image = videocap.read()\n",
    "    if (state):\n",
    "        image = cv2.cvtColor(image, cv2.COLOR_RGB2GRAY)\n",
    "        video.append(image)\n",
    "    else:\n",
    "        break    \n",
    "data = np.array(video).reshape((len(video), -1))\n",
    "Class = KNeighborsClassifier()\n",
    "x_train, x_test, y_train, y_test = train_test_split(data, number, test_size=0.5)\n",
    "Class.fit(x_train, y_train)\n",
    "predicted = Class.predict(x_test)\n",
    "\n",
    "print(metrics.classification_report(y_test, predicted))\n",
    "#disp = metrics.ConfusionMatrixDisplay.from_predictions(y_test, predicted)\n",
    "#disp.figure_.suptitle(\"Confusion Matrix\")\n",
    "#plt.show()\n"
   ]
  },
  {
   "cell_type": "code",
   "execution_count": null,
   "metadata": {},
   "outputs": [],
   "source": []
  }
 ],
 "metadata": {
  "interpreter": {
   "hash": "7312d3833594326cb1312379bcd2c309d2f0b09606c9dd98143629db3a053624"
  },
  "kernelspec": {
   "display_name": "Python 3 (ipykernel)",
   "language": "python",
   "name": "python3"
  },
  "language_info": {
   "codemirror_mode": {
    "name": "ipython",
    "version": 3
   },
   "file_extension": ".py",
   "mimetype": "text/x-python",
   "name": "python",
   "nbconvert_exporter": "python",
   "pygments_lexer": "ipython3",
   "version": "3.9.7"
  }
 },
 "nbformat": 4,
 "nbformat_minor": 2
}
